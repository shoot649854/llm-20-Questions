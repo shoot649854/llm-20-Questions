{
 "cells": [
  {
   "cell_type": "markdown",
   "metadata": {},
   "source": [
    "# LIBRARIES"
   ]
  },
  {
   "cell_type": "code",
   "execution_count": 1,
   "metadata": {},
   "outputs": [
    {
     "name": "stderr",
     "output_type": "stream",
     "text": [
      "/Users/shotomorisaki/Engineering/llm-20-Questions/.venv/lib/python3.12/site-packages/tqdm/auto.py:21: TqdmWarning: IProgress not found. Please update jupyter and ipywidgets. See https://ipywidgets.readthedocs.io/en/stable/user_install.html\n",
      "  from .autonotebook import tqdm as notebook_tqdm\n"
     ]
    },
    {
     "name": "stdout",
     "output_type": "stream",
     "text": [
      "2.3.0\n"
     ]
    }
   ],
   "source": [
    "import sys\n",
    "import os   \n",
    "import glob\n",
    "import torch\n",
    "from transformers import pipeline\n",
    "import dotenv\n",
    "dotenv.load_dotenv()\n",
    "\n",
    "print(torch.__version__)\n",
    "\n",
    "environment = \"local\" #local or kaggle"
   ]
  },
  {
   "cell_type": "code",
   "execution_count": 5,
   "metadata": {},
   "outputs": [],
   "source": [
    "PARENT_DIR = os.path.dirname(os.getcwd())\n",
    "SRC_DIR = os.path.join(PARENT_DIR, 'src')\n",
    "DATA_DIR = os.path.join(PARENT_DIR, 'data')\n",
    "sys.path.append(SRC_DIR)\n",
    "sys.path.append(DATA_DIR)"
   ]
  },
  {
   "cell_type": "code",
   "execution_count": 8,
   "metadata": {},
   "outputs": [
    {
     "ename": "ImportError",
     "evalue": "cannot import name 'llm_20_questions' from 'llm_20_questions' (/Users/shotomorisaki/Engineering/llm-20-Questions/data/llm_20_questions.py)",
     "output_type": "error",
     "traceback": [
      "\u001b[0;31m---------------------------------------------------------------------------\u001b[0m",
      "\u001b[0;31mImportError\u001b[0m                               Traceback (most recent call last)",
      "Cell \u001b[0;32mIn[8], line 1\u001b[0m\n\u001b[0;32m----> 1\u001b[0m \u001b[38;5;28;01mfrom\u001b[39;00m \u001b[38;5;21;01mllm_20_questions\u001b[39;00m \u001b[38;5;28;01mimport\u001b[39;00m llm_20_questions\n",
      "\u001b[0;31mImportError\u001b[0m: cannot import name 'llm_20_questions' from 'llm_20_questions' (/Users/shotomorisaki/Engineering/llm-20-Questions/data/llm_20_questions.py)"
     ]
    }
   ],
   "source": [
    "from llm_20_questions import llm_20_questions"
   ]
  },
  {
   "cell_type": "markdown",
   "metadata": {},
   "source": [
    "# DATA "
   ]
  },
  {
   "cell_type": "code",
   "execution_count": 4,
   "metadata": {},
   "outputs": [
    {
     "ename": "ImportError",
     "evalue": "cannot import name 'llm_20_questions' from 'llm_20_questions' (/Users/shotomorisaki/Engineering/llm-20-Questions/data/llm_20_questions.py)",
     "output_type": "error",
     "traceback": [
      "\u001b[0;31m---------------------------------------------------------------------------\u001b[0m",
      "\u001b[0;31mImportError\u001b[0m                               Traceback (most recent call last)",
      "Cell \u001b[0;32mIn[4], line 5\u001b[0m\n\u001b[1;32m      3\u001b[0m     env \u001b[38;5;241m=\u001b[39m make(environment\u001b[38;5;241m=\u001b[39m\u001b[38;5;124m\"\u001b[39m\u001b[38;5;124mllm_20_questions\u001b[39m\u001b[38;5;124m\"\u001b[39m)\n\u001b[1;32m      4\u001b[0m \u001b[38;5;28;01melif\u001b[39;00m environment \u001b[38;5;241m==\u001b[39m \u001b[38;5;124m\"\u001b[39m\u001b[38;5;124mlocal\u001b[39m\u001b[38;5;124m\"\u001b[39m:\n\u001b[0;32m----> 5\u001b[0m     \u001b[38;5;28;01mfrom\u001b[39;00m \u001b[38;5;21;01mllm_20_questions\u001b[39;00m \u001b[38;5;28;01mimport\u001b[39;00m llm_20_questions\n",
      "\u001b[0;31mImportError\u001b[0m: cannot import name 'llm_20_questions' from 'llm_20_questions' (/Users/shotomorisaki/Engineering/llm-20-Questions/data/llm_20_questions.py)"
     ]
    }
   ],
   "source": [
    "if environment == \"kaggle\":\n",
    "    from kaggle_environments import make\n",
    "    env = make(environment=\"llm_20_questions\")\n",
    "elif environment == \"local\":\n",
    "    from llm_20_questions import llm_20_questions"
   ]
  },
  {
   "cell_type": "code",
   "execution_count": null,
   "metadata": {},
   "outputs": [],
   "source": [
    "if environment == \"kaggle\":\n",
    "    game_output = env.run(agents=[simple_agent1, simple_agent2, simple_agent3, simple_agent4])\n",
    "elif environment == \"local\":\n",
    "    "
   ]
  },
  {
   "cell_type": "code",
   "execution_count": null,
   "metadata": {},
   "outputs": [],
   "source": [
    "def advanced_guesser_agent(obs, cfg):\n",
    "    if obs.turnType == \"ask\":\n",
    "        # Use a decision tree or probabilistic model to select the best question\n",
    "        response = select_best_question(obs)\n",
    "    elif obs.turnType == \"guess\":\n",
    "        # Make an educated guess based on the gathered information\n",
    "        response = make_educated_guess(obs)\n",
    "    elif obs.turnType == \"answer\":\n",
    "        response = \"no\"\n",
    "    return response\n",
    "\n",
    "def select_best_question(obs):\n",
    "    # Example observation keys: 'temperature', 'humidity', 'status', 'location', 'time_of_day'\n",
    "    if 'temperature' not in obs:\n",
    "        return \"What is the current temperature?\"\n",
    "    elif 'humidity' not in obs:\n",
    "        return \"What is the current humidity level?\"\n",
    "    elif 'status' not in obs:\n",
    "        return \"What is the current weather status (e.g., clear, rainy)?\"\n",
    "    elif 'location' not in obs:\n",
    "        return \"Where are you located?\"\n",
    "    elif 'time_of_day' not in obs:\n",
    "        return \"What time of day is it?\"\n",
    "    \n",
    "    return \"All necessary observations are already provided.\"\n",
    "\n",
    "def make_educated_guess(obs):\n",
    "    if 'temperature' in obs and 'humidity' in obs and 'status' in obs:\n",
    "        temperature = obs['temperature']\n",
    "        humidity = obs['humidity']\n",
    "        status = obs['status']\n",
    "        \n",
    "        # Example logic to make an educated guess\n",
    "        if temperature > 30 and humidity > 70:\n",
    "            return \"It is likely very hot and humid.\"\n",
    "        elif temperature < 10:\n",
    "            return \"It is likely very cold.\"\n",
    "        elif status == 'rainy':\n",
    "            return \"It is likely raining.\"\n",
    "        else:\n",
    "            return \"The weather seems moderate.\"\n",
    "\n",
    "    return \"Insufficient data to make an educated guess.\""
   ]
  },
  {
   "cell_type": "code",
   "execution_count": null,
   "metadata": {},
   "outputs": [],
   "source": [
    "def advanced_answerer_agent(obs, cfg):\n",
    "    if obs.turnType == \"ask\":\n",
    "        response = \"no\"\n",
    "    elif obs.turnType == \"guess\":\n",
    "        response = \"no\"\n",
    "    elif obs.turnType == \"answer\":\n",
    "        # Provide more accurate responses based on the context\n",
    "        response = provide_accurate_answer(obs)\n",
    "    return response\n",
    "\n",
    "def provide_accurate_answer(obs):\n",
    "    # Example observation keys: 'temperature', 'humidity', 'status'\n",
    "    if 'temperature' in obs and 'humidity' in obs and 'status' in obs:\n",
    "        temperature = obs['temperature']\n",
    "        humidity = obs['humidity']\n",
    "        status = obs['status']\n",
    "        \n",
    "        # Example logic to provide an accurate answer\n",
    "        if temperature > 30 and humidity > 70:\n",
    "            return \"The weather is hot and humid.\"\n",
    "        elif temperature < 10:\n",
    "            return \"The weather is cold.\"\n",
    "        elif status == 'rainy':\n",
    "            return \"It is currently raining.\"\n",
    "        else:\n",
    "            return \"The weather is moderate.\"\n",
    "\n",
    "    return \"Insufficient data to provide an accurate answer.\"\n",
    "\n"
   ]
  },
  {
   "cell_type": "code",
   "execution_count": null,
   "metadata": {},
   "outputs": [],
   "source": [
    "# Use a pre-trained model for question answering\n",
    "qa_pipeline = pipeline(\"question-answering\")\n",
    "\n",
    "def advanced_guesser_agent(obs, cfg):\n",
    "    if obs.turnType == \"ask\":\n",
    "        response = select_best_question(obs)\n",
    "    elif obs.turnType == \"guess\":\n",
    "        response = make_educated_guess(obs)\n",
    "    elif obs.turnType == \"answer\":\n",
    "        response = \"no\"\n",
    "    return response\n",
    "\n",
    "def select_best_question(obs):\n",
    "    # Use pre-trained model to generate questions\n",
    "    context = \"Provide context from obs\"\n",
    "    question = qa_pipeline(context=context, question=\"What is the best question to ask?\")\n",
    "    return question['answer']\n",
    "\n",
    "def make_educated_guess(obs):\n",
    "    # Use pre-trained model to make an educated guess\n",
    "    pass\n"
   ]
  },
  {
   "cell_type": "code",
   "execution_count": null,
   "metadata": {},
   "outputs": [],
   "source": [
    "import logging\n",
    "\n",
    "logging.basicConfig(level=logging.DEBUG)\n",
    "\n",
    "def debug_agent(obs, cfg):\n",
    "    response = \"no\"\n",
    "    if obs.turnType == \"ask\":\n",
    "        response = \"Is it an animal?\"\n",
    "    elif obs.turnType == \"guess\":\n",
    "        response = \"animal\"\n",
    "    elif obs.turnType == \"answer\":\n",
    "        response = \"no\"\n",
    "    \n",
    "    # Enhanced logging\n",
    "    logging.debug(f\"Step: {obs.step}\")\n",
    "    logging.debug(f\"Turn Type: {obs.turnType}\")\n",
    "    logging.debug(f\"Observation: {obs}\")\n",
    "    logging.debug(f\"Response: {response}\")\n",
    "    \n",
    "    return response\n"
   ]
  },
  {
   "cell_type": "code",
   "execution_count": null,
   "metadata": {},
   "outputs": [],
   "source": [
    "def run_tests():\n",
    "    test_cases = [\n",
    "        {\"obs\": {\"turnType\": \"ask\", \"step\": 1}, \"expected\": \"Is it an animal?\"},\n",
    "        {\"obs\": {\"turnType\": \"guess\", \"step\": 2}, \"expected\": \"animal\"},\n",
    "    ]\n",
    "    \n",
    "    for test_case in test_cases:\n",
    "        obs = test_case['obs']\n",
    "        expected = test_case['expected']\n",
    "        result = debug_agent(obs, None)\n",
    "        assert result == expected, f\"Test failed: expected {expected}, got {result}\"\n",
    "    \n",
    "    logging.info(\"All tests passed.\")\n",
    "\n",
    "run_tests()\n"
   ]
  },
  {
   "cell_type": "markdown",
   "metadata": {},
   "source": [
    "# SUBMISSION"
   ]
  },
  {
   "cell_type": "code",
   "execution_count": null,
   "metadata": {},
   "outputs": [],
   "source": [
    "kaggle_directory = \"kaggle/working/submission\"\n",
    "submission_directory = os.path.join(PARENT_DIR, kaggle_directory)\n",
    "submission_subdirectory = \"lib\"\n",
    "\n",
    "# Create the main directory if it doesn't exist\n",
    "if not os.path.exists(submission_directory):\n",
    "    os.makedirs(submission_directory)\n",
    "\n",
    "# Create the subdirectory\n",
    "subdirectory_path = os.path.join(submission_directory, submission_subdirectory)\n",
    "if not os.path.exists(subdirectory_path):\n",
    "    os.mkdir(subdirectory_path)"
   ]
  },
  {
   "cell_type": "code",
   "execution_count": null,
   "metadata": {},
   "outputs": [],
   "source": []
  }
 ],
 "metadata": {
  "kernelspec": {
   "display_name": ".venv",
   "language": "python",
   "name": "python3"
  },
  "language_info": {
   "codemirror_mode": {
    "name": "ipython",
    "version": 3
   },
   "file_extension": ".py",
   "mimetype": "text/x-python",
   "name": "python",
   "nbconvert_exporter": "python",
   "pygments_lexer": "ipython3",
   "version": "3.12.3"
  }
 },
 "nbformat": 4,
 "nbformat_minor": 2
}
